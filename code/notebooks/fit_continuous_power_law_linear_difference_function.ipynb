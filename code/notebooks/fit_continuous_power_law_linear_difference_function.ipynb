{
 "cells": [
  {
   "cell_type": "markdown",
   "metadata": {},
   "source": [
    "In this notebook we will attempt to fit a continuous power law model with a difference function, $D$.\n",
    "$$\n",
    "f(x \\mid \\boldsymbol\\theta, \\boldsymbol\\phi) = \\frac{p(x \\mid \\boldsymbol\\theta) D(x; \\boldsymbol\\phi)}{\\kappa(\\boldsymbol\\theta, \\boldsymbol\\phi)}\n",
    "$$\n",
    "\n",
    "In particular, we will be using\n",
    "\n",
    "$$\n",
    "p(x \\mid \\alpha, x_{\\text{min}}) \\propto x^{-\\alpha}, \\: x > x_{\\text{min}}.\n",
    "$$\n",
    "and \n",
    "$$\n",
    " D(x; \\boldsymbol\\phi) = 1- \\exp\\left(-\\phi_0 - \\phi_1(x-1)\\right)\n",
    "$$\n",
    "which lead to \n",
    "$$\n",
    "\\kappa(\\boldsymbol\\theta, \\boldsymbol\\phi) =  \\int_{ x_{\\text{min}}}^\\infty p(t \\mid \\boldsymbol\\theta) D(t; \\boldsymbol\\phi) dt,\\\\\n",
    "= \\frac{x_{\\text{min}}^{1-\\alpha}}{\\alpha-1} - \\exp(-\\phi_0 + \\phi_1)\\int_{ x_{\\text{min}}}^\\infty t^{-\\alpha}\\exp\\left(-\\phi_1 t \\right) dt,\\\\\n",
    "=\\frac{x_{\\text{min}}^{1-\\alpha}}{\\alpha-1} - \\exp(-\\phi_0 + \\phi_1) \\Gamma(1-\\alpha, x_{\\text{min}} \\phi_1 )\\phi_1^{\\alpha-1}  \n",
    "$$\n",
    "Hence\n",
    "$$\n",
    "\\log(\\kappa(\\boldsymbol\\theta, \\boldsymbol\\phi)) = \\text{log_diff_exp}\\left[ (1-\\alpha)\\log(x_{\\text{min}})-\\log(\\alpha-1), -\\phi_0 + \\phi_1 + \\log(\\Gamma(1-\\alpha, x_{\\text{min}} \\phi_1 )) +(\\alpha-1)\\log(\\phi_1) \\right].\n",
    "$$\n",
    "\n"
   ]
  },
  {
   "cell_type": "code",
   "execution_count": 1,
   "metadata": {},
   "outputs": [
    {
     "name": "stderr",
     "output_type": "stream",
     "text": [
      "Loading required package: ggplot2\n",
      "Loading required package: StanHeaders\n",
      "rstan (Version 2.18.2, GitRev: 2e1f913d3ca3)\n",
      "For execution on a local, multicore CPU with excess RAM we recommend calling\n",
      "options(mc.cores = parallel::detectCores()).\n",
      "To avoid recompilation of unchanged Stan programs, we recommend calling\n",
      "rstan_options(auto_write = TRUE)\n"
     ]
    }
   ],
   "source": [
    "source(\"../power_law_aux.r\")\n",
    "library(poweRlaw)\n",
    "library(rstan)\n",
    "rstan_options(auto_write = TRUE)"
   ]
  },
  {
   "cell_type": "markdown",
   "metadata": {},
   "source": [
    "Stan program:"
   ]
  },
  {
   "cell_type": "code",
   "execution_count": 2,
   "metadata": {},
   "outputs": [
    {
     "name": "stdout",
     "output_type": "stream",
     "text": [
      "functions{\n",
      "    real gamma_inc(real a, real x){\n",
      "      int n;\n",
      "      real ap1;\n",
      "      real ssum;\n",
      "      if(a>=0) return gamma_q(a, x) * tgamma(a);\n",
      "      ap1 = a+1;\n",
      "      //Get floor(-a)\n",
      "      n = 0;\n",
      "      while(n < -a){\n",
      "        n = n + 1;\n",
      "      }\n",
      "      //Get summed part\n",
      "      {\n",
      "        vector[n] sums;\n",
      "        for( i in 0:(n-1) ) sums[i+1] = pow(x, i)/tgamma(ap1+i);\n",
      "        ssum = sum(sums);\n",
      "      }\n",
      "      return tgamma(a)*(gamma_q(a + n, x)-pow(x, a)*exp(-x)*ssum);\n",
      "    }\n",
      "    real power_law_linear_diff_lpdf(real x, real a, real m, real[] phi){\n",
      "      real ldens = -a * log(x) + log1m_exp(-phi[1] - phi[2] * (x-1));\n",
      "      return(ldens);\n",
      "    }\n",
      "    /*TODO: implement rng for prior and posterior predictive checks*/\n",
      "}\n",
      "data{\n",
      "  int<lower=0> K; // number of unique values  \n",
      "  real values[K];\n",
      "  int<lower=0> frequencies[K]; \n",
      "  real<lower=0> x_min;\n",
      "  real<lower=0> alpha_shape;\n",
      "  real<lower=0> alpha_rate;\n",
      "}\n",
      "parameters{\n",
      "  real<lower=1, upper=4> alpha;\n",
      "  real<lower=0> phi[2];\n",
      "}\n",
      "transformed parameters{\n",
      "    real lconst = log_diff_exp( (1-alpha)*log(x_min)-log(alpha-1),\n",
      "    -phi[1] + phi[2] + log(gamma_inc(1-alpha, x_min * phi[2]) + (alpha-1) *log(phi[2]))\n",
      "    );\n",
      "}\n",
      "model{\n",
      "  /* WARNING: I know this distribution is CONTINUOUS and we shouldn't do this, CONCEPTUALLY */\n",
      "  /* HOWEVER: computationally, this makes a lot of sense. It is at least as efficient as not compressing */\n",
      "   for (k in 1:K) target += frequencies[k] * (power_law_linear_diff_lpdf(values[k] | alpha, x_min, phi)-lconst);\n",
      "  /* Priors */\n",
      "  target += gamma_lpdf(alpha| alpha_shape, alpha_rate); // original prior by C. Gillespie was U(1, 8)\n",
      "  for (i in 1:2) target += exponential_lpdf(phi[i] | 1.0/3.0);\n",
      "}\n"
     ]
    }
   ],
   "source": [
    "writeLines(readLines(\"../stan/continuous_power_law_diff_linear.stan\"))"
   ]
  },
  {
   "cell_type": "code",
   "execution_count": 3,
   "metadata": {},
   "outputs": [],
   "source": [
    "contplawLinearDiff <- readRDS(\"../stan/continuous_power_law_diff_linear.rds\")"
   ]
  },
  {
   "cell_type": "code",
   "execution_count": 4,
   "metadata": {},
   "outputs": [],
   "source": [
    "data(\"moby\")\n",
    "the.data <- moby\n",
    "cdata <- compress_data(the.data)\n",
    "pl.data <- list(\n",
    "  K = cdata$K,\n",
    "  values = cdata$v,\n",
    "  frequencies = cdata$fs,\n",
    "  x_min = 1,\n",
    "  alpha_shape = .2,\n",
    "  alpha_rate = .1\n",
    ")"
   ]
  },
  {
   "cell_type": "code",
   "execution_count": null,
   "metadata": {},
   "outputs": [],
   "source": [
    "posterior.contplawLinearDiff <- sampling(contplawLinearDiff, data = pl.data)"
   ]
  },
  {
   "cell_type": "code",
   "execution_count": null,
   "metadata": {},
   "outputs": [],
   "source": [
    "posterior.contplawDiff"
   ]
  },
  {
   "cell_type": "code",
   "execution_count": null,
   "metadata": {},
   "outputs": [],
   "source": [
    "stan_trace(posterior.contplawDiff)"
   ]
  },
  {
   "cell_type": "markdown",
   "metadata": {},
   "source": [
    "As you can see, Stan could not explore the posterior _at all_. Either there is a serious bug or the model has serious pathologies. Both, probably."
   ]
  }
 ],
 "metadata": {
  "kernelspec": {
   "display_name": "R 3.5",
   "language": "R",
   "name": "ir35"
  },
  "language_info": {
   "codemirror_mode": "r",
   "file_extension": ".r",
   "mimetype": "text/x-r-source",
   "name": "R",
   "pygments_lexer": "r",
   "version": "3.5.1"
  }
 },
 "nbformat": 4,
 "nbformat_minor": 2
}
