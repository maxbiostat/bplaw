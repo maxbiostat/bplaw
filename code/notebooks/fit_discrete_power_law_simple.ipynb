{
 "cells": [
  {
   "cell_type": "markdown",
   "metadata": {},
   "source": [
    "Here we will fit a discrete power law model:\n",
    "$$\n",
    "Pr(X = x | \\alpha) = \\frac{x^{-\\alpha}}{\\zeta(\\alpha)},\n",
    "$$\n",
    "where $\\zeta(s)$ is the [Riemann zeta function](https://en.wikipedia.org/wiki/Riemann_zeta_function)."
   ]
  },
  {
   "cell_type": "code",
   "execution_count": 1,
   "metadata": {},
   "outputs": [
    {
     "name": "stderr",
     "output_type": "stream",
     "text": [
      "Loading required package: ggplot2\n",
      "Loading required package: StanHeaders\n",
      "rstan (Version 2.18.2, GitRev: 2e1f913d3ca3)\n",
      "For execution on a local, multicore CPU with excess RAM we recommend calling\n",
      "options(mc.cores = parallel::detectCores()).\n",
      "To avoid recompilation of unchanged Stan programs, we recommend calling\n",
      "rstan_options(auto_write = TRUE)\n"
     ]
    }
   ],
   "source": [
    "source(\"../power_law_aux.r\")\n",
    "library(poweRlaw)\n",
    "library(rstan)\n",
    "library(bridgesampling)\n",
    "rstan_options(auto_write = TRUE)"
   ]
  },
  {
   "cell_type": "markdown",
   "metadata": {},
   "source": [
    "Stan requires the computation of gradients, and a naive sum would not give accurate results. Instead, we'll use an integral representation to compute the gradient of the normalising constant (Riemann's $\\zeta$ function):\n",
    "$$\n",
    "\\frac{d}{ds}\\zeta(s) = \\frac{1}{\\Gamma(s)}\\int_0^\\infty \\frac{x^{s-1}\\left(\\log(x) - \\psi_0(s) \\right)}{e^x -1}dx,\n",
    "$$\n",
    "where $\\psi_0(\\cdot)$ is the [digamma function](https://en.wikipedia.org/wiki/Digamma_function).\n",
    "This can then be computed by standard quadrature.\n",
    "Here's the C++ code to implement this, which we'll call using Rstan's ability to include header files:\n",
    "`zeta.hpp`\n",
    "```cpp\n",
    "#include <boost/math/special_functions/zeta.hpp>\n",
    "#include <boost/math/special_functions/digamma.hpp>\n",
    "#include <boost/math/special_functions/gamma.hpp>\n",
    "#include <boost/math/quadrature/exp_sinh.hpp>\n",
    "using boost::math::isfinite;\n",
    "\n",
    "inline double zeta(const double& s, std::ostream* pstream__){\n",
    "  return boost::math::zeta(s);\n",
    "}\n",
    "\n",
    "inline var zeta(const var& s_var, std::ostream* pstream__) {\n",
    "  double s = s_var.val();\n",
    "  double f = zeta(s, pstream__);\n",
    "  boost::math::quadrature::exp_sinh<double> integrator;\n",
    "  auto int_rep_zeta_prime = [&](double x) {\n",
    "    double ans = std::pow(x, s-1) *( std::log(x) - boost::math::digamma(s))/(std::exp(x) -1);\n",
    "    if(!isfinite(ans)) return 0.0; // weird patching to get quadrature working\n",
    "    return ans;\n",
    "  };\n",
    "  double tolerance = std::sqrt(std::numeric_limits<double>::epsilon());\n",
    "  double error = 0.0;\n",
    "  double L1 = 0.0;\n",
    "  size_t levels;\n",
    "  double deriv = integrator.integrate(int_rep_zeta_prime, tolerance, &error, &L1, &levels)/boost::math::tgamma(s);\n",
    "  return var(new precomp_v_vari(f, s_var.vi_, deriv));\n",
    "}\n",
    "```\n",
    "\n",
    "Here's the Stan code:"
   ]
  },
  {
   "cell_type": "code",
   "execution_count": 9,
   "metadata": {},
   "outputs": [
    {
     "name": "stdout",
     "output_type": "stream",
     "text": [
      "/*Assumes x_min = 1; if x_min > 1, we'd need a correction for that truncation*/\n",
      "functions{\n",
      "    real zeta(real s);\n",
      "    /*TODO: implement rng for prior and posterior predictive checks*/\n",
      "}\n",
      "data{\n",
      "  int<lower=0> K; // number of unique values\n",
      "  int values[K];\n",
      "  int<lower=0> frequencies[K];\n",
      "  real<lower=0> alpha_shape;\n",
      "  real<lower=0> alpha_rate;\n",
      "}\n",
      "parameters{\n",
      "  real <lower=1> alpha;\n",
      "}\n",
      "model{\n",
      "  real constant = log(zeta(alpha));\n",
      "  for (k in 1:K) {\n",
      "    target += frequencies[k] * (-alpha * log(values[k]) - constant);\n",
      "  }\n",
      "  target += gamma_lpdf(alpha |alpha_shape, alpha_rate);\n",
      "} \n"
     ]
    }
   ],
   "source": [
    "writeLines(readLines(\"../stan/discrete_power_law.stan\"))"
   ]
  },
  {
   "cell_type": "markdown",
   "metadata": {},
   "source": [
    "Now it's time to load the data and fit the model:"
   ]
  },
  {
   "cell_type": "code",
   "execution_count": 10,
   "metadata": {},
   "outputs": [],
   "source": [
    "discplaw <- readRDS(\"../stan/discrete_power_law.rds\")"
   ]
  },
  {
   "cell_type": "code",
   "execution_count": 6,
   "metadata": {},
   "outputs": [],
   "source": [
    "data(\"moby\")\n",
    "the.data <- moby\n",
    "cdata <- compress_data(the.data)\n",
    "pl.data <- list(\n",
    "  K = cdata$K,\n",
    "  values = cdata$v,\n",
    "  frequencies = cdata$fs,\n",
    "  alpha_shape = 0.2,\n",
    "  alpha_rate = 0.2  \n",
    ")"
   ]
  },
  {
   "cell_type": "code",
   "execution_count": 11,
   "metadata": {},
   "outputs": [
    {
     "name": "stdout",
     "output_type": "stream",
     "text": [
      "\n",
      "SAMPLING FOR MODEL 'discrete_power_law' NOW (CHAIN 1).\n",
      "Chain 1: \n",
      "Chain 1: Gradient evaluation took 0.000115 seconds\n",
      "Chain 1: 1000 transitions using 10 leapfrog steps per transition would take 1.15 seconds.\n",
      "Chain 1: Adjust your expectations accordingly!\n",
      "Chain 1: \n",
      "Chain 1: \n",
      "Chain 1: Iteration:    1 / 2000 [  0%]  (Warmup)\n",
      "Chain 1: Iteration:  200 / 2000 [ 10%]  (Warmup)\n",
      "Chain 1: Iteration:  400 / 2000 [ 20%]  (Warmup)\n",
      "Chain 1: Iteration:  600 / 2000 [ 30%]  (Warmup)\n",
      "Chain 1: Iteration:  800 / 2000 [ 40%]  (Warmup)\n",
      "Chain 1: Iteration: 1000 / 2000 [ 50%]  (Warmup)\n",
      "Chain 1: Iteration: 1001 / 2000 [ 50%]  (Sampling)\n",
      "Chain 1: Iteration: 1200 / 2000 [ 60%]  (Sampling)\n",
      "Chain 1: Iteration: 1400 / 2000 [ 70%]  (Sampling)\n",
      "Chain 1: Iteration: 1600 / 2000 [ 80%]  (Sampling)\n",
      "Chain 1: Iteration: 1800 / 2000 [ 90%]  (Sampling)\n",
      "Chain 1: Iteration: 2000 / 2000 [100%]  (Sampling)\n",
      "Chain 1: \n",
      "Chain 1:  Elapsed Time: 0.227867 seconds (Warm-up)\n",
      "Chain 1:                0.217765 seconds (Sampling)\n",
      "Chain 1:                0.445632 seconds (Total)\n",
      "Chain 1: \n",
      "\n",
      "SAMPLING FOR MODEL 'discrete_power_law' NOW (CHAIN 2).\n",
      "Chain 2: \n",
      "Chain 2: Gradient evaluation took 0.00012 seconds\n",
      "Chain 2: 1000 transitions using 10 leapfrog steps per transition would take 1.2 seconds.\n",
      "Chain 2: Adjust your expectations accordingly!\n",
      "Chain 2: \n",
      "Chain 2: \n",
      "Chain 2: Iteration:    1 / 2000 [  0%]  (Warmup)\n",
      "Chain 2: Iteration:  200 / 2000 [ 10%]  (Warmup)\n",
      "Chain 2: Iteration:  400 / 2000 [ 20%]  (Warmup)\n",
      "Chain 2: Iteration:  600 / 2000 [ 30%]  (Warmup)\n",
      "Chain 2: Iteration:  800 / 2000 [ 40%]  (Warmup)\n",
      "Chain 2: Iteration: 1000 / 2000 [ 50%]  (Warmup)\n",
      "Chain 2: Iteration: 1001 / 2000 [ 50%]  (Sampling)\n",
      "Chain 2: Iteration: 1200 / 2000 [ 60%]  (Sampling)\n",
      "Chain 2: Iteration: 1400 / 2000 [ 70%]  (Sampling)\n",
      "Chain 2: Iteration: 1600 / 2000 [ 80%]  (Sampling)\n",
      "Chain 2: Iteration: 1800 / 2000 [ 90%]  (Sampling)\n",
      "Chain 2: Iteration: 2000 / 2000 [100%]  (Sampling)\n",
      "Chain 2: \n",
      "Chain 2:  Elapsed Time: 0.233173 seconds (Warm-up)\n",
      "Chain 2:                0.210204 seconds (Sampling)\n",
      "Chain 2:                0.443377 seconds (Total)\n",
      "Chain 2: \n",
      "\n",
      "SAMPLING FOR MODEL 'discrete_power_law' NOW (CHAIN 3).\n",
      "Chain 3: \n",
      "Chain 3: Gradient evaluation took 8e-05 seconds\n",
      "Chain 3: 1000 transitions using 10 leapfrog steps per transition would take 0.8 seconds.\n",
      "Chain 3: Adjust your expectations accordingly!\n",
      "Chain 3: \n",
      "Chain 3: \n",
      "Chain 3: Iteration:    1 / 2000 [  0%]  (Warmup)\n",
      "Chain 3: Iteration:  200 / 2000 [ 10%]  (Warmup)\n",
      "Chain 3: Iteration:  400 / 2000 [ 20%]  (Warmup)\n",
      "Chain 3: Iteration:  600 / 2000 [ 30%]  (Warmup)\n",
      "Chain 3: Iteration:  800 / 2000 [ 40%]  (Warmup)\n",
      "Chain 3: Iteration: 1000 / 2000 [ 50%]  (Warmup)\n",
      "Chain 3: Iteration: 1001 / 2000 [ 50%]  (Sampling)\n",
      "Chain 3: Iteration: 1200 / 2000 [ 60%]  (Sampling)\n",
      "Chain 3: Iteration: 1400 / 2000 [ 70%]  (Sampling)\n",
      "Chain 3: Iteration: 1600 / 2000 [ 80%]  (Sampling)\n",
      "Chain 3: Iteration: 1800 / 2000 [ 90%]  (Sampling)\n",
      "Chain 3: Iteration: 2000 / 2000 [100%]  (Sampling)\n",
      "Chain 3: \n",
      "Chain 3:  Elapsed Time: 0.233671 seconds (Warm-up)\n",
      "Chain 3:                0.224208 seconds (Sampling)\n",
      "Chain 3:                0.457879 seconds (Total)\n",
      "Chain 3: \n",
      "\n",
      "SAMPLING FOR MODEL 'discrete_power_law' NOW (CHAIN 4).\n",
      "Chain 4: \n",
      "Chain 4: Gradient evaluation took 0.000112 seconds\n",
      "Chain 4: 1000 transitions using 10 leapfrog steps per transition would take 1.12 seconds.\n",
      "Chain 4: Adjust your expectations accordingly!\n",
      "Chain 4: \n",
      "Chain 4: \n",
      "Chain 4: Iteration:    1 / 2000 [  0%]  (Warmup)\n",
      "Chain 4: Iteration:  200 / 2000 [ 10%]  (Warmup)\n",
      "Chain 4: Iteration:  400 / 2000 [ 20%]  (Warmup)\n",
      "Chain 4: Iteration:  600 / 2000 [ 30%]  (Warmup)\n",
      "Chain 4: Iteration:  800 / 2000 [ 40%]  (Warmup)\n",
      "Chain 4: Iteration: 1000 / 2000 [ 50%]  (Warmup)\n",
      "Chain 4: Iteration: 1001 / 2000 [ 50%]  (Sampling)\n",
      "Chain 4: Iteration: 1200 / 2000 [ 60%]  (Sampling)\n",
      "Chain 4: Iteration: 1400 / 2000 [ 70%]  (Sampling)\n",
      "Chain 4: Iteration: 1600 / 2000 [ 80%]  (Sampling)\n",
      "Chain 4: Iteration: 1800 / 2000 [ 90%]  (Sampling)\n",
      "Chain 4: Iteration: 2000 / 2000 [100%]  (Sampling)\n",
      "Chain 4: \n",
      "Chain 4:  Elapsed Time: 0.229829 seconds (Warm-up)\n",
      "Chain 4:                0.241811 seconds (Sampling)\n",
      "Chain 4:                0.47164 seconds (Total)\n",
      "Chain 4: \n"
     ]
    },
    {
     "data": {
      "text/plain": [
       "Inference for Stan model: discrete_power_law.\n",
       "4 chains, each with iter=2000; warmup=1000; thin=1; \n",
       "post-warmup draws per chain=1000, total post-warmup draws=4000.\n",
       "\n",
       "           mean se_mean   sd      2.5%       25%       50%       75%     97.5%\n",
       "alpha      1.77    0.00 0.01      1.76      1.77      1.77      1.78      1.79\n",
       "lp__  -40199.41    0.02 0.70 -40201.54 -40199.56 -40199.14 -40198.97 -40198.91\n",
       "      n_eff Rhat\n",
       "alpha  1415    1\n",
       "lp__   1640    1\n",
       "\n",
       "Samples were drawn using NUTS(diag_e) at Sun Feb 10 14:25:07 2019.\n",
       "For each parameter, n_eff is a crude measure of effective sample size,\n",
       "and Rhat is the potential scale reduction factor on split chains (at \n",
       "convergence, Rhat=1)."
      ]
     },
     "metadata": {},
     "output_type": "display_data"
    }
   ],
   "source": [
    "posterior.discplaw <- sampling(discplaw, data = pl.data)\n",
    "posterior.discplaw"
   ]
  },
  {
   "cell_type": "markdown",
   "metadata": {},
   "source": [
    "Now let's annotate the results and compare with maximum likelihood estimation (MLE)."
   ]
  },
  {
   "cell_type": "code",
   "execution_count": 13,
   "metadata": {},
   "outputs": [
    {
     "data": {
      "image/png": "[encoded data removed]",
      "text/plain": [
       "Plot with title “Histogram of alpha.samples”"
      ]
     },
     "metadata": {},
     "output_type": "display_data"
    }
   ],
   "source": [
    "raw <- displ$new(the.data) \n",
    "raw$setXmin(1)\n",
    "MLE <- estimate_pars(raw)\n",
    "\n",
    "alpha.samples <- extract(posterior.discplaw, 'alpha')$alpha\n",
    "hist(alpha.samples, probability = TRUE, xlab = expression(alpha))\n",
    "abline(v = MLE$pars, lwd = 2, lty = 2)"
   ]
  },
  {
   "cell_type": "code",
   "execution_count": 14,
   "metadata": {},
   "outputs": [
    {
     "name": "stderr",
     "output_type": "stream",
     "text": [
      "Warning message:\n",
      "“effective sample size cannot be calculated, has been replaced by number of samples.”"
     ]
    },
    {
     "name": "stdout",
     "output_type": "stream",
     "text": [
      "Iteration: 1\n",
      "Iteration: 2\n",
      "Iteration: 3\n",
      "Iteration: 4\n"
     ]
    },
    {
     "data": {
      "text/plain": [
       "Bridge sampling estimate of the log marginal likelihood: -40202.88\n",
       "Estimate obtained in 4 iteration(s) via method \"normal\"."
      ]
     },
     "metadata": {},
     "output_type": "display_data"
    }
   ],
   "source": [
    "bridgesampling::bridge_sampler(posterior.discplaw)"
   ]
  }
 ],
 "metadata": {
  "kernelspec": {
   "display_name": "R 3.5",
   "language": "R",
   "name": "ir35"
  },
  "language_info": {
   "codemirror_mode": "r",
   "file_extension": ".r",
   "mimetype": "text/x-r-source",
   "name": "R",
   "pygments_lexer": "r",
   "version": "3.5.1"
  }
 },
 "nbformat": 4,
 "nbformat_minor": 2
}
