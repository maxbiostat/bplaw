{
 "cells": [
  {
   "cell_type": "markdown",
   "metadata": {},
   "source": [
    "In this notebook we will attempt to fit a continuous power law model with a difference function, $D$.\n",
    "$$\n",
    "f(x \\mid \\boldsymbol\\theta, \\boldsymbol\\phi) = \\frac{p(x \\mid \\boldsymbol\\theta) D(x; \\boldsymbol\\phi)}{\\kappa(\\boldsymbol\\theta, \\boldsymbol\\phi)}\n",
    "$$\n",
    "\n",
    "In particular, we will be using\n",
    "\n",
    "$$\n",
    "p(x \\mid \\alpha, x_{\\text{min}}) \\propto x^{-\\alpha}, \\: x > x_{\\text{min}}.\n",
    "$$\n",
    "and \n",
    "$$\n",
    " D(x; \\boldsymbol\\phi) = 1- \\exp\\left(-\\phi_0 - \\phi_1(x-1) - \\phi_2(x-1)^2\\right)\n",
    "$$\n",
    "which lead to \n",
    "$$\n",
    "\\kappa(\\boldsymbol\\theta, \\boldsymbol\\phi) = \\left[ \\int_{ x_{\\text{min}}}^\\infty p(t \\mid \\boldsymbol\\theta) D(t; \\boldsymbol\\phi) dt \\right]^{-1},\\\\\n",
    "= \\left[  \\frac{x_{\\text{min}}^{1-\\alpha}}{\\alpha-1} - \\int_{ x_{\\text{min}}}^\\infty t^{-\\alpha}\\exp\\left(-\\phi_0 - \\phi_1(t-1) - \\phi_2(t-1)^2\\right) dt \\right]^{-1},\\\\\n",
    "= \\left[  \\frac{x_{\\text{min}}^{1-\\alpha}}{\\alpha-1} - e^{-\\phi_0}\\int_{ x_{\\text{min}}}^\\infty t^{-\\alpha}\\exp\\left(-\\phi_1(t-1) - \\phi_2(t-1)^2\\right) dt \\right]^{-1},\\\\\n",
    "= \\left[  \\frac{x_{\\text{min}}^{1-\\alpha}}{\\alpha-1} - e^{-\\phi_0}I \\right]^{-1}.\n",
    "$$\n",
    "Hence\n",
    "$$\n",
    "\\log(\\kappa(\\boldsymbol\\theta, \\boldsymbol\\phi)) = -\\text{log_diff_exp}\\left[ (1-\\alpha)\\log(x_{\\text{min}})-\\log(\\alpha-1), -\\phi_0 + \\log(I) \\right].\n",
    "$$\n",
    "\n",
    "Unfortunately, $I$ does not seem to have a closed-form so we'll have to resort to quadrature. \n",
    "For reasons that will become apparent when we look at the C++ code below, we will make our lives easier by writing $z := \\exp(-\\phi_1)$ and $w := \\exp(-\\phi_1)$ so we have \n",
    "$$\n",
    "I = \\int_{ x_{\\text{min}}}^\\infty t^{-\\alpha} z^{t-1} w^{(t-1)^2}dt.\n",
    "$$\n",
    "Stan requires gradients for all of its parameters, but differentiating under the integral sign here would not buy us anything. \n",
    "Instead, we will use templating to get [Stan's autodiff](https://arxiv.org/abs/1509.07164) to compute the relevant gradients for us.\n",
    "\n",
    "`diff_function_logintegral.hpp`:\n",
    "\n",
    "```cpp\n",
    "#include <boost/math/quadrature/exp_sinh.hpp>\n",
    "\n",
    "template <typename T0__, typename T1__, typename T2__, typename T3__>\n",
    "typename boost::math::tools::promote_args<T0__, T1__, T2__, T3__>::type\n",
    "  diff_function_logintegral(const T0__& alpha,\n",
    "                          const T1__& z,\n",
    "                          const T2__& w,\n",
    "                          const T3__& m, std::ostream* pstream__){\n",
    "    typedef typename boost::math::tools::promote_args<T0__, T1__, T2__, T3__>::type T;\n",
    "    double inf = std::numeric_limits<double>::infinity();\n",
    "    boost::math::quadrature::exp_sinh<double> integrator;\n",
    "    auto f = [&](double x) {\n",
    "      return std::pow(x, -value_of(alpha))  *  std::pow(value_of(z), x-1) * std::pow(value_of(w), std::pow(x-1, 2)); \n",
    "    };\n",
    "    double termination = std::pow(std::numeric_limits<double>::epsilon(), 0.5);\n",
    "    double error = 0.0;\n",
    "    double L1 = 0.0;\n",
    "    size_t levels;\n",
    "    double Q = integrator.integrate(f, value_of(m), inf, termination, &error, &L1, &levels);\n",
    "    T ans = std::log(Q); \n",
    "    return ans;\n",
    "}\n",
    "```"
   ]
  },
  {
   "cell_type": "code",
   "execution_count": 4,
   "metadata": {},
   "outputs": [
    {
     "name": "stderr",
     "output_type": "stream",
     "text": [
      "Loading required package: ggplot2\n",
      "Loading required package: StanHeaders\n",
      "rstan (Version 2.18.2, GitRev: 2e1f913d3ca3)\n",
      "For execution on a local, multicore CPU with excess RAM we recommend calling\n",
      "options(mc.cores = parallel::detectCores()).\n",
      "To avoid recompilation of unchanged Stan programs, we recommend calling\n",
      "rstan_options(auto_write = TRUE)\n"
     ]
    }
   ],
   "source": [
    "source(\"../power_law_aux.r\")\n",
    "library(poweRlaw)\n",
    "library(rstan)\n",
    "rstan_options(auto_write = TRUE)"
   ]
  },
  {
   "cell_type": "markdown",
   "metadata": {},
   "source": [
    "Stan program:"
   ]
  },
  {
   "cell_type": "code",
   "execution_count": 1,
   "metadata": {},
   "outputs": [
    {
     "name": "stdout",
     "output_type": "stream",
     "text": [
      "functions{\n",
      "    real diff_function_logintegral(real alpha, real z, real w, real m);\n",
      "    real power_law_diff_lpdf(real x, real a, real m, real[] phi){\n",
      "      real ldens = -a * log(x) + log1m_exp(-phi[1] - phi[2] * (x-1) - phi[3] * pow(x-1, 2) );\n",
      "      return (ldens);\n",
      "    }\n",
      "    /*TODO: implement rng for prior and posterior predictive checks*/\n",
      "}\n",
      "data{\n",
      "  int<lower=0> K; // number of unique values  \n",
      "  real values[K];\n",
      "  int<lower=0> frequencies[K]; \n",
      "  real<lower=0> x_min;\n",
      "  real<lower=0> alpha_shape;\n",
      "  real<lower=0> alpha_rate;\n",
      "}\n",
      "parameters{\n",
      "  real<lower=1> alpha;\n",
      "  real<lower=0> phi[3];\n",
      "}\n",
      "transformed parameters{\n",
      "    real lconst = -log_diff_exp( (1-alpha)*log(x_min)-log(alpha-1),\n",
      "  -phi[1] + diff_function_logintegral(alpha,\n",
      "                                        exp(-phi[2]), // z\n",
      "                                        exp(-phi[3]), // w\n",
      "                                        x_min) );\n",
      "}\n",
      "model{\n",
      "  /* WARNING: I know this distribution is CONTINUOUS and we shouldn't do this, CONCEPTUALLY */\n",
      "  /* HOWEVER: computationally, this makes a lot of sense. It is at least as efficient as not compressing */\n",
      "   for (k in 1:K) target += frequencies[k] * (power_law_diff_lpdf(values[k] | alpha, x_min, phi)-lconst);\n",
      "  /* Priors */\n",
      "  target += gamma_lpdf(alpha| alpha_shape, alpha_rate); // original prior by C. Gillespie was U(1, 8)\n",
      "  for (i in 1:3) target += exponential_lpdf(phi[i] | 1.0/3.0);\n",
      "}\n"
     ]
    }
   ],
   "source": [
    "writeLines(readLines(\"../stan/continuous_power_law_diff_full.stan\"))"
   ]
  },
  {
   "cell_type": "code",
   "execution_count": 2,
   "metadata": {},
   "outputs": [],
   "source": [
    "contplawDiff <- readRDS(\"../stan/continuous_power_law_diff_full.rds\")"
   ]
  },
  {
   "cell_type": "code",
   "execution_count": 5,
   "metadata": {},
   "outputs": [],
   "source": [
    "data(\"moby\")\n",
    "the.data <- moby\n",
    "cdata <- compress_data(the.data)\n",
    "pl.data <- list(\n",
    "  K = cdata$K,\n",
    "  values = cdata$v,\n",
    "  frequencies = cdata$fs,\n",
    "  x_min = 1,\n",
    "  alpha_shape = .2,\n",
    "  alpha_rate = .2\n",
    ")"
   ]
  },
  {
   "cell_type": "code",
   "execution_count": 6,
   "metadata": {},
   "outputs": [
    {
     "name": "stdout",
     "output_type": "stream",
     "text": [
      "\n",
      "SAMPLING FOR MODEL 'continuous_power_law_diff_full' NOW (CHAIN 1).\n",
      "Chain 1: \n",
      "Chain 1: Gradient evaluation took 0.000149 seconds\n",
      "Chain 1: 1000 transitions using 10 leapfrog steps per transition would take 1.49 seconds.\n",
      "Chain 1: Adjust your expectations accordingly!\n",
      "Chain 1: \n",
      "Chain 1: \n",
      "Chain 1: Iteration:    1 / 2000 [  0%]  (Warmup)\n",
      "Chain 1: Iteration:  200 / 2000 [ 10%]  (Warmup)\n",
      "Chain 1: Iteration:  400 / 2000 [ 20%]  (Warmup)\n",
      "Chain 1: Iteration:  600 / 2000 [ 30%]  (Warmup)\n",
      "Chain 1: Iteration:  800 / 2000 [ 40%]  (Warmup)\n",
      "Chain 1: Iteration: 1000 / 2000 [ 50%]  (Warmup)\n",
      "Chain 1: Iteration: 1001 / 2000 [ 50%]  (Sampling)\n",
      "Chain 1: Iteration: 1200 / 2000 [ 60%]  (Sampling)\n",
      "Chain 1: Iteration: 1400 / 2000 [ 70%]  (Sampling)\n",
      "Chain 1: Iteration: 1600 / 2000 [ 80%]  (Sampling)\n",
      "Chain 1: Iteration: 1800 / 2000 [ 90%]  (Sampling)\n",
      "Chain 1: Iteration: 2000 / 2000 [100%]  (Sampling)\n",
      "Chain 1: \n",
      "Chain 1:  Elapsed Time: 137.299 seconds (Warm-up)\n",
      "Chain 1:                141.128 seconds (Sampling)\n",
      "Chain 1:                278.427 seconds (Total)\n",
      "Chain 1: \n",
      "\n",
      "SAMPLING FOR MODEL 'continuous_power_law_diff_full' NOW (CHAIN 2).\n",
      "Chain 2: \n",
      "Chain 2: Gradient evaluation took 0.000154 seconds\n",
      "Chain 2: 1000 transitions using 10 leapfrog steps per transition would take 1.54 seconds.\n",
      "Chain 2: Adjust your expectations accordingly!\n",
      "Chain 2: \n",
      "Chain 2: \n",
      "Chain 2: Iteration:    1 / 2000 [  0%]  (Warmup)\n",
      "Chain 2: Iteration:  200 / 2000 [ 10%]  (Warmup)\n",
      "Chain 2: Iteration:  400 / 2000 [ 20%]  (Warmup)\n",
      "Chain 2: Iteration:  600 / 2000 [ 30%]  (Warmup)\n",
      "Chain 2: Iteration:  800 / 2000 [ 40%]  (Warmup)\n",
      "Chain 2: Iteration: 1000 / 2000 [ 50%]  (Warmup)\n",
      "Chain 2: Iteration: 1001 / 2000 [ 50%]  (Sampling)\n",
      "Chain 2: Iteration: 1200 / 2000 [ 60%]  (Sampling)\n",
      "Chain 2: Iteration: 1400 / 2000 [ 70%]  (Sampling)\n",
      "Chain 2: Iteration: 1600 / 2000 [ 80%]  (Sampling)\n",
      "Chain 2: Iteration: 1800 / 2000 [ 90%]  (Sampling)\n",
      "Chain 2: Iteration: 2000 / 2000 [100%]  (Sampling)\n",
      "Chain 2: \n",
      "Chain 2:  Elapsed Time: 185.708 seconds (Warm-up)\n",
      "Chain 2:                189.833 seconds (Sampling)\n",
      "Chain 2:                375.541 seconds (Total)\n",
      "Chain 2: \n",
      "\n",
      "SAMPLING FOR MODEL 'continuous_power_law_diff_full' NOW (CHAIN 3).\n",
      "Chain 3: \n",
      "Chain 3: Gradient evaluation took 0.000142 seconds\n",
      "Chain 3: 1000 transitions using 10 leapfrog steps per transition would take 1.42 seconds.\n",
      "Chain 3: Adjust your expectations accordingly!\n",
      "Chain 3: \n",
      "Chain 3: \n",
      "Chain 3: Iteration:    1 / 2000 [  0%]  (Warmup)\n",
      "Chain 3: Iteration:  200 / 2000 [ 10%]  (Warmup)\n",
      "Chain 3: Iteration:  400 / 2000 [ 20%]  (Warmup)\n",
      "Chain 3: Iteration:  600 / 2000 [ 30%]  (Warmup)\n",
      "Chain 3: Iteration:  800 / 2000 [ 40%]  (Warmup)\n",
      "Chain 3: Iteration: 1000 / 2000 [ 50%]  (Warmup)\n",
      "Chain 3: Iteration: 1001 / 2000 [ 50%]  (Sampling)\n",
      "Chain 3: Iteration: 1200 / 2000 [ 60%]  (Sampling)\n",
      "Chain 3: Iteration: 1400 / 2000 [ 70%]  (Sampling)\n",
      "Chain 3: Iteration: 1600 / 2000 [ 80%]  (Sampling)\n",
      "Chain 3: Iteration: 1800 / 2000 [ 90%]  (Sampling)\n",
      "Chain 3: Iteration: 2000 / 2000 [100%]  (Sampling)\n",
      "Chain 3: \n",
      "Chain 3:  Elapsed Time: 145.728 seconds (Warm-up)\n",
      "Chain 3:                156.634 seconds (Sampling)\n",
      "Chain 3:                302.362 seconds (Total)\n",
      "Chain 3: \n",
      "\n",
      "SAMPLING FOR MODEL 'continuous_power_law_diff_full' NOW (CHAIN 4).\n",
      "Chain 4: \n",
      "Chain 4: Gradient evaluation took 0.000415 seconds\n",
      "Chain 4: 1000 transitions using 10 leapfrog steps per transition would take 4.15 seconds.\n",
      "Chain 4: Adjust your expectations accordingly!\n",
      "Chain 4: \n",
      "Chain 4: \n",
      "Chain 4: Iteration:    1 / 2000 [  0%]  (Warmup)\n",
      "Chain 4: Iteration:  200 / 2000 [ 10%]  (Warmup)\n",
      "Chain 4: Iteration:  400 / 2000 [ 20%]  (Warmup)\n",
      "Chain 4: Iteration:  600 / 2000 [ 30%]  (Warmup)\n",
      "Chain 4: Iteration:  800 / 2000 [ 40%]  (Warmup)\n",
      "Chain 4: Iteration: 1000 / 2000 [ 50%]  (Warmup)\n",
      "Chain 4: Iteration: 1001 / 2000 [ 50%]  (Sampling)\n",
      "Chain 4: Iteration: 1200 / 2000 [ 60%]  (Sampling)\n",
      "Chain 4: Iteration: 1400 / 2000 [ 70%]  (Sampling)\n",
      "Chain 4: Iteration: 1600 / 2000 [ 80%]  (Sampling)\n",
      "Chain 4: Iteration: 1800 / 2000 [ 90%]  (Sampling)\n",
      "Chain 4: Iteration: 2000 / 2000 [100%]  (Sampling)\n",
      "Chain 4: \n",
      "Chain 4:  Elapsed Time: 139.721 seconds (Warm-up)\n",
      "Chain 4:                142.883 seconds (Sampling)\n",
      "Chain 4:                282.604 seconds (Total)\n",
      "Chain 4: \n"
     ]
    },
    {
     "name": "stderr",
     "output_type": "stream",
     "text": [
      "Warning message:\n",
      "“There were 3994 transitions after warmup that exceeded the maximum treedepth. Increase max_treedepth above 10. See\n",
      "http://mc-stan.org/misc/warnings.html#maximum-treedepth-exceeded”Warning message:\n",
      "“Examine the pairs() plot to diagnose sampling problems\n",
      "”"
     ]
    },
    {
     "data": {
      "text/plain": [
       "Inference for Stan model: continuous_power_law_diff_full.\n",
       "4 chains, each with iter=2000; warmup=1000; thin=1; \n",
       "post-warmup draws per chain=1000, total post-warmup draws=4000.\n",
       "\n",
       "            mean  se_mean       sd      2.5%       25%       50%       75%\n",
       "alpha       1.00      NaN     0.00      1.00      1.00      1.00      1.00\n",
       "phi[1]      6.85     0.63     0.89      6.07      6.12      6.53      7.26\n",
       "phi[2]      3.04     1.71     2.42      0.31      1.16      2.62      4.49\n",
       "phi[3]      1.53     1.40     1.99      0.24      0.27      0.46      1.73\n",
       "lconst    -33.76     1.40     1.98    -36.04    -35.52    -33.83    -32.06\n",
       "lp__   620752.60 26450.23 37415.63 575036.84 588777.39 622066.93 654041.97\n",
       "           97.5% n_eff         Rhat\n",
       "alpha       1.00   NaN 1.370000e+00\n",
       "phi[1]      8.28     2 4.058200e+02\n",
       "phi[2]      6.64     2 1.366790e+03\n",
       "phi[3]      4.97     2 2.824280e+03\n",
       "lconst    -31.33     2 7.186785e+12\n",
       "lp__   663839.82     2 1.094335e+06\n",
       "\n",
       "Samples were drawn using NUTS(diag_e) at Sun Feb 10 15:45:05 2019.\n",
       "For each parameter, n_eff is a crude measure of effective sample size,\n",
       "and Rhat is the potential scale reduction factor on split chains (at \n",
       "convergence, Rhat=1)."
      ]
     },
     "metadata": {},
     "output_type": "display_data"
    }
   ],
   "source": [
    "posterior.contplawDiff <- sampling(contplawDiff, data = pl.data)"
   ]
  },
  {
   "cell_type": "code",
   "execution_count": 7,
   "metadata": {},
   "outputs": [
    {
     "data": {
      "text/plain": [
       "Inference for Stan model: continuous_power_law_diff_full.\n",
       "4 chains, each with iter=2000; warmup=1000; thin=1; \n",
       "post-warmup draws per chain=1000, total post-warmup draws=4000.\n",
       "\n",
       "            mean  se_mean       sd      2.5%       25%       50%       75%\n",
       "alpha       1.00      NaN     0.00      1.00      1.00      1.00      1.00\n",
       "phi[1]      6.85     0.63     0.89      6.07      6.12      6.53      7.26\n",
       "phi[2]      3.04     1.71     2.42      0.31      1.16      2.62      4.49\n",
       "phi[3]      1.53     1.40     1.99      0.24      0.27      0.46      1.73\n",
       "lconst    -33.76     1.40     1.98    -36.04    -35.52    -33.83    -32.06\n",
       "lp__   620752.60 26450.23 37415.63 575036.84 588777.39 622066.93 654041.97\n",
       "           97.5% n_eff         Rhat\n",
       "alpha       1.00   NaN 1.370000e+00\n",
       "phi[1]      8.28     2 4.058200e+02\n",
       "phi[2]      6.64     2 1.366790e+03\n",
       "phi[3]      4.97     2 2.824280e+03\n",
       "lconst    -31.33     2 7.186785e+12\n",
       "lp__   663839.82     2 1.094335e+06\n",
       "\n",
       "Samples were drawn using NUTS(diag_e) at Sun Feb 10 15:45:05 2019.\n",
       "For each parameter, n_eff is a crude measure of effective sample size,\n",
       "and Rhat is the potential scale reduction factor on split chains (at \n",
       "convergence, Rhat=1)."
      ]
     },
     "metadata": {},
     "output_type": "display_data"
    }
   ],
   "source": [
    "posterior.contplawDiff"
   ]
  },
  {
   "cell_type": "code",
   "execution_count": 8,
   "metadata": {},
   "outputs": [
    {
     "data": {},
     "metadata": {},
     "output_type": "display_data"
    },
    {
     "data": {
      "image/png": "[encoded data removed]",
      "text/plain": [
       "plot without title"
      ]
     },
     "metadata": {},
     "output_type": "display_data"
    }
   ],
   "source": [
    "stan_trace(posterior.contplawDiff)"
   ]
  },
  {
   "cell_type": "markdown",
   "metadata": {},
   "source": [
    "As you can see, Stan could not explore the posterior _at all_. Either there is a serious bug or the model has serious pathologies. Both, probably."
   ]
  }
 ],
 "metadata": {
  "kernelspec": {
   "display_name": "R 3.5",
   "language": "R",
   "name": "ir35"
  },
  "language_info": {
   "codemirror_mode": "r",
   "file_extension": ".r",
   "mimetype": "text/x-r-source",
   "name": "R",
   "pygments_lexer": "r",
   "version": "3.5.1"
  }
 },
 "nbformat": 4,
 "nbformat_minor": 2
}
