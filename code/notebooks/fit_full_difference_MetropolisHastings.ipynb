{
 "cells": [
  {
   "cell_type": "markdown",
   "metadata": {},
   "source": [
    "In this notebook we will prototype an implementation of plmcmc using a few adaptive Metropolis-Hastings routines available for R"
   ]
  },
  {
   "cell_type": "code",
   "execution_count": 2,
   "metadata": {},
   "outputs": [
    {
     "name": "stderr",
     "output_type": "stream",
     "text": [
      "Loading required package: ggplot2\n",
      "Loading required package: StanHeaders\n",
      "rstan (Version 2.18.2, GitRev: 2e1f913d3ca3)\n",
      "For execution on a local, multicore CPU with excess RAM we recommend calling\n",
      "options(mc.cores = parallel::detectCores()).\n",
      "To avoid recompilation of unchanged Stan programs, we recommend calling\n",
      "rstan_options(auto_write = TRUE)\n",
      "Loading required package: MASS\n"
     ]
    }
   ],
   "source": [
    "source(\"../power_law_aux.r\")\n",
    "library(poweRlaw)\n",
    "library(rstan)\n",
    "library(MHadaptive)"
   ]
  },
  {
   "cell_type": "markdown",
   "metadata": {},
   "source": [
    "First, we will define the unnormalised likelihood, a function to compute the normalising constant $\\kappa(\\boldsymbol\\theta, \\boldsymbol\\phi)$, the priors and the target posterior:"
   ]
  },
  {
   "cell_type": "code",
   "execution_count": 3,
   "metadata": {},
   "outputs": [],
   "source": [
    "unnorm_lik <- function(x, a, m, p0, p1, p2){\n",
    "  if(x < m) return(0)\n",
    "  return(\n",
    "    x^-a * (1 - exp(-p0 - p1 * (x-1) - p2* (x-1)^2 ))\n",
    "  )\n",
    "}\n",
    "#\n",
    "get_norm_const <- function(a, m, p0, p1, p2){\n",
    "  integrate(function(x) unnorm_lik(x, a, m, p0, p1, p2), m, Inf)\n",
    "}\n",
    "#\n",
    "get_transformed_pars <- function(pars){\n",
    "  K <- length(pars)\n",
    "  tpars <- rep(NA, K)\n",
    "  tpars[1] <- exp(pars[1]) + 1\n",
    "  tpars[2:K] <- exp(pars[2:K])\n",
    "  return(tpars)\n",
    "}\n",
    "#\n",
    "likelihood <- function(pars, data, m){\n",
    "  tpars <- get_transformed_pars(pars)\n",
    "  const <- get_norm_const(a = tpars[1], m = m,  p0 = tpars[2],\n",
    "                          p1 =  tpars[3], p2 = tpars[4])$value\n",
    "  lik <- sum(\n",
    "    log(\n",
    "      sapply(1:length(data$v), function(i){\n",
    "        data$fs[i] * unnorm_lik(x = data$v[i],\n",
    "                                a = tpars[1], m = m,\n",
    "                                p0 = tpars[2], p1 =  tpars[3],\n",
    "                                p2 =  tpars[4])/const\n",
    "      }\n",
    "      )\n",
    "    )\n",
    "  )\n",
    "  return(lik)\n",
    "}\n",
    "##\n",
    "prior <- function(pars){\n",
    "  tpars <- get_transformed_pars(pars)\n",
    "  dunif(tpars[1], 1, 8, log = TRUE) +\n",
    "  sum(dexp(tpars[2:4], rate = 1/3, log = TRUE))  \n",
    "}\n",
    "#\n",
    "target <- function(pars, data, m, verbose = FALSE){\n",
    "  if(verbose) cat(\"pars:\", get_transformed_pars(pars), \"\\n\")\n",
    "  likelihood(pars, data, m) + prior(pars)\n",
    "}"
   ]
  },
  {
   "cell_type": "markdown",
   "metadata": {},
   "source": [
    "Data and initial values for the parameters:"
   ]
  },
  {
   "cell_type": "code",
   "execution_count": 4,
   "metadata": {},
   "outputs": [],
   "source": [
    "data(\"moby\")\n",
    "the.data <- moby\n",
    "dt <- compress_data(the.data)\n",
    "pp <- c(\n",
    "  log(2.2-1), ## alpha\n",
    "  log(0.2), ## phi_0\n",
    "  log(.5), ## phi_1\n",
    "  log(1.2) ## phi_2\n",
    ")"
   ]
  },
  {
   "cell_type": "code",
   "execution_count": 5,
   "metadata": {},
   "outputs": [
    {
     "data": {
      "text/html": [
       "-2595.2662800309"
      ],
      "text/latex": [
       "-2595.2662800309"
      ],
      "text/markdown": [
       "-2595.2662800309"
      ],
      "text/plain": [
       "[1] -2595.266"
      ]
     },
     "metadata": {},
     "output_type": "display_data"
    },
    {
     "data": {
      "text/html": [
       "-5.87508034839298"
      ],
      "text/latex": [
       "-5.87508034839298"
      ],
      "text/markdown": [
       "-5.87508034839298"
      ],
      "text/plain": [
       "[1] -5.87508"
      ]
     },
     "metadata": {},
     "output_type": "display_data"
    },
    {
     "data": {
      "text/html": [
       "-2601.1413603793"
      ],
      "text/latex": [
       "-2601.1413603793"
      ],
      "text/markdown": [
       "-2601.1413603793"
      ],
      "text/plain": [
       "[1] -2601.141"
      ]
     },
     "metadata": {},
     "output_type": "display_data"
    }
   ],
   "source": [
    "## Testing\n",
    "likelihood(pars = pp, data = dt, m = 1)\n",
    "prior(pp)\n",
    "target(pars = pp, data = dt, m = 1)"
   ]
  },
  {
   "cell_type": "markdown",
   "metadata": {},
   "source": [
    "First in line is [**MHadaptive**](https://cran.r-project.org/package=MHadaptive):"
   ]
  },
  {
   "cell_type": "code",
   "execution_count": 7,
   "metadata": {},
   "outputs": [
    {
     "ename": "ERROR",
     "evalue": "Error in solve.default(-fit$hessian): Lapack routine dgesv: system is exactly singular: U[3,3] = 0\n",
     "output_type": "error",
     "traceback": [
      "Error in solve.default(-fit$hessian): Lapack routine dgesv: system is exactly singular: U[3,3] = 0\nTraceback:\n",
      "1. Metro_Hastings(li_func = target, pars = pp, iterations = 50000, \n .     par_names = c(\"alpha\", \"phi0\", \"phi1\", \"phi2\"), data = dt, \n .     burn_in = 5000, m = 1, verbose = FALSE)",
      "2. solve(-fit$hessian)",
      "3. solve.default(-fit$hessian)"
     ]
    }
   ],
   "source": [
    "plMCMC <- Metro_Hastings(li_func = target, pars = pp,\n",
    "                         iterations = 5E4, \n",
    "                       par_names = c('alpha','phi0','phi1', 'phi2'),\n",
    "                       data = dt,\n",
    "                       burn_in = 5000,\n",
    "                       m = 1, \n",
    "                       verbose = FALSE)"
   ]
  },
  {
   "cell_type": "code",
   "execution_count": null,
   "metadata": {},
   "outputs": [],
   "source": [
    "# plMCMC$trace <- t(apply(plMCMC$trace, 1, get_transformed_pars))  "
   ]
  },
  {
   "cell_type": "markdown",
   "metadata": {},
   "source": [
    "Next in line is the [**mcmc**](https://cran.r-project.org/web/packages/mcmc/mcmc.pdf) package:"
   ]
  },
  {
   "cell_type": "code",
   "execution_count": 8,
   "metadata": {},
   "outputs": [
    {
     "ename": "ERROR",
     "evalue": "Error in integrate(function(x) unnorm_lik(x, a, m, p0, p1, p2), m, Inf): the integral is probably divergent\n",
     "output_type": "error",
     "traceback": [
      "Error in integrate(function(x) unnorm_lik(x, a, m, p0, p1, p2), m, Inf): the integral is probably divergent\nTraceback:\n",
      "1. mcmc::metrop(target, data = dt, m = 1, init = pp, nbatch = 10000)",
      "2. metrop.function(target, data = dt, m = 1, init = pp, nbatch = 10000)",
      "3. system.time(out <- .Call(C_metrop, func1, initial, nbatch, blen, \n .     nspac, scale, func2, debug, env1, env2))",
      "4. (function (state) \n . obj(state, ...))(c(0.370476820884172, -12.9894667495059, -17.2603232286185, \n . -13.6337881364319))",
      "5. obj(state, ...)",
      "6. likelihood(pars, data, m)   # at line 47 of file <text>",
      "7. get_norm_const(a = tpars[1], m = m, p0 = tpars[2], p1 = tpars[3], \n .     p2 = tpars[4])   # at line 23-24 of file <text>",
      "8. integrate(function(x) unnorm_lik(x, a, m, p0, p1, p2), m, Inf)   # at line 10 of file <text>",
      "9. stop(res$message)"
     ]
    },
    {
     "name": "stderr",
     "output_type": "stream",
     "text": [
      "Timing stopped at: 42.63 0 42.63\n"
     ]
    }
   ],
   "source": [
    "library(mcmc)\n",
    "GeyerMCMC <- mcmc::metrop(target, data = dt, m = 1, init = pp, nbatch = 1E4)"
   ]
  },
  {
   "cell_type": "code",
   "execution_count": 10,
   "metadata": {},
   "outputs": [
    {
     "data": {
      "text/html": [
       "<ol class=list-inline>\n",
       "\t<li>2.44842508936563</li>\n",
       "\t<li>2.28426385530152e-06</li>\n",
       "\t<li>3.19107393006489e-08</li>\n",
       "\t<li>1.19928125302093e-06</li>\n",
       "</ol>\n"
      ],
      "text/latex": [
       "\\begin{enumerate*}\n",
       "\\item 2.44842508936563\n",
       "\\item 2.28426385530152e-06\n",
       "\\item 3.19107393006489e-08\n",
       "\\item 1.19928125302093e-06\n",
       "\\end{enumerate*}\n"
      ],
      "text/markdown": [
       "1. 2.44842508936563\n",
       "2. 2.28426385530152e-06\n",
       "3. 3.19107393006489e-08\n",
       "4. 1.19928125302093e-06\n",
       "\n",
       "\n"
      ],
      "text/plain": [
       "[1] 2.448425e+00 2.284264e-06 3.191074e-08 1.199281e-06"
      ]
     },
     "metadata": {},
     "output_type": "display_data"
    }
   ],
   "source": [
    "get_transformed_pars(c(0.370476820884172, -12.9894667495059, -17.2603232286185, -13.6337881364319))"
   ]
  }
 ],
 "metadata": {
  "kernelspec": {
   "display_name": "R 3.5",
   "language": "R",
   "name": "ir35"
  },
  "language_info": {
   "codemirror_mode": "r",
   "file_extension": ".r",
   "mimetype": "text/x-r-source",
   "name": "R",
   "pygments_lexer": "r",
   "version": "3.5.1"
  }
 },
 "nbformat": 4,
 "nbformat_minor": 2
}
