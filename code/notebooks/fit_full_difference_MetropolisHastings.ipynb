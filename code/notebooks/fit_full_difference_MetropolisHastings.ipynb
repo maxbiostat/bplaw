{
 "cells": [
  {
   "cell_type": "markdown",
   "metadata": {},
   "source": [
    "In this notebook we will prototype an implementation of plmcmc using a few adaptive Metropolis-Hastings routines available for R"
   ]
  },
  {
   "cell_type": "code",
   "execution_count": 1,
   "metadata": {},
   "outputs": [
    {
     "name": "stderr",
     "output_type": "stream",
     "text": [
      "Loading required package: ggplot2\n",
      "Loading required package: StanHeaders\n",
      "rstan (Version 2.18.2, GitRev: 2e1f913d3ca3)\n",
      "For execution on a local, multicore CPU with excess RAM we recommend calling\n",
      "options(mc.cores = parallel::detectCores()).\n",
      "To avoid recompilation of unchanged Stan programs, we recommend calling\n",
      "rstan_options(auto_write = TRUE)\n",
      "Loading required package: MASS\n"
     ]
    }
   ],
   "source": [
    "source(\"../power_law_aux.r\")\n",
    "library(poweRlaw)\n",
    "library(rstan)\n",
    "library(MHadaptive)"
   ]
  },
  {
   "cell_type": "markdown",
   "metadata": {},
   "source": [
    "First, we will define the unnormalised likelihood, a function to compute the normalising constant $\\kappa(\\boldsymbol\\theta, \\boldsymbol\\phi)$, the priors and the target posterior:"
   ]
  },
  {
   "cell_type": "code",
   "execution_count": 2,
   "metadata": {},
   "outputs": [],
   "source": [
    "unnorm_lik <- function(x, a, m, p0, p1, p2){\n",
    "  if(x < m) return(0)\n",
    "  return(\n",
    "    x^-a * (1 - exp(-p0 - p1 * (x-1) - p2* (x-1)^2 ))\n",
    "  )\n",
    "}\n",
    "unnorm_lik <- Vectorize(unnorm_lik)\n",
    "#\n",
    "get_norm_const <- function(a, m, p0, p1, p2){\n",
    "  integrate(function(x) unnorm_lik(x, a, m, p0, p1, p2), m, Inf)\n",
    "}\n",
    "#\n",
    "get_transformed_pars <- function(pars){\n",
    "  K <- length(pars)\n",
    "  tpars <- rep(NA, K)\n",
    "  tpars[1] <- exp(pars[1]) + 1\n",
    "  tpars[2:K] <- exp(pars[2:K])\n",
    "  return(tpars)\n",
    "}\n",
    "#\n",
    "likelihood <- function(pars, data, m){\n",
    "  tpars <- get_transformed_pars(pars)\n",
    "  const <- get_norm_const(a = tpars[1], m = m,  p0 = tpars[2],\n",
    "                          p1 =  tpars[3], p2 = tpars[4])$value\n",
    "  lik <- sum(\n",
    "    log(\n",
    "      sapply(1:length(data$v), function(i){\n",
    "        data$fs[i] * unnorm_lik(x = data$v[i],\n",
    "                                a = tpars[1], m = m,\n",
    "                                p0 = tpars[2], p1 =  tpars[3],\n",
    "                                p2 =  tpars[4])/const\n",
    "      }\n",
    "      )\n",
    "    )\n",
    "  )\n",
    "  return(lik)\n",
    "}\n",
    "##\n",
    "prior <- function(pars){\n",
    "  tpars <- get_transformed_pars(pars)\n",
    "  dunif(tpars[1], 1, 8, log = TRUE) +\n",
    "  sum(dexp(tpars[2:4], rate = 1/3, log = TRUE))  \n",
    "}\n",
    "#\n",
    "target <- function(pars, data, m, verbose = FALSE){\n",
    "  if(verbose) cat(\"pars:\", get_transformed_pars(pars), \"\\n\")\n",
    "  likelihood(pars, data, m) + prior(pars)\n",
    "}"
   ]
  },
  {
   "cell_type": "markdown",
   "metadata": {},
   "source": [
    "Data and initial values for the parameters:"
   ]
  },
  {
   "cell_type": "code",
   "execution_count": 3,
   "metadata": {},
   "outputs": [],
   "source": [
    "data(\"moby\")\n",
    "the.data <- moby\n",
    "dt <- compress_data(the.data)\n",
    "pp <- c(\n",
    "  log(2.2-1), ## alpha\n",
    "  log(0.2), ## phi_0\n",
    "  log(.5), ## phi_1\n",
    "  log(1.2) ## phi_2\n",
    ")"
   ]
  },
  {
   "cell_type": "code",
   "execution_count": 4,
   "metadata": {},
   "outputs": [
    {
     "data": {
      "text/html": [
       "-2595.2662800309"
      ],
      "text/latex": [
       "-2595.2662800309"
      ],
      "text/markdown": [
       "-2595.2662800309"
      ],
      "text/plain": [
       "[1] -2595.266"
      ]
     },
     "metadata": {},
     "output_type": "display_data"
    },
    {
     "data": {
      "text/html": [
       "-5.87508034839298"
      ],
      "text/latex": [
       "-5.87508034839298"
      ],
      "text/markdown": [
       "-5.87508034839298"
      ],
      "text/plain": [
       "[1] -5.87508"
      ]
     },
     "metadata": {},
     "output_type": "display_data"
    },
    {
     "data": {
      "text/html": [
       "-2601.1413603793"
      ],
      "text/latex": [
       "-2601.1413603793"
      ],
      "text/markdown": [
       "-2601.1413603793"
      ],
      "text/plain": [
       "[1] -2601.141"
      ]
     },
     "metadata": {},
     "output_type": "display_data"
    }
   ],
   "source": [
    "## Testing\n",
    "likelihood(pars = pp, data = dt, m = 1)\n",
    "prior(pp)\n",
    "target(pars = pp, data = dt, m = 1)"
   ]
  },
  {
   "cell_type": "code",
   "execution_count": 5,
   "metadata": {},
   "outputs": [],
   "source": [
    "neglike <- function(alpha_raw, phi0_raw, phi1_raw, phi2_raw){\n",
    "    lesp <- c(alpha_raw, phi0_raw, phi1_raw, phi2_raw)\n",
    "    res <-  -likelihood(pars = lesp, data = dt, m = 1)\n",
    "    return(res)\n",
    "}"
   ]
  },
  {
   "cell_type": "code",
   "execution_count": 6,
   "metadata": {},
   "outputs": [
    {
     "data": {
      "text/html": [
       "2595.2662800309"
      ],
      "text/latex": [
       "2595.2662800309"
      ],
      "text/markdown": [
       "2595.2662800309"
      ],
      "text/plain": [
       "[1] 2595.266"
      ]
     },
     "metadata": {},
     "output_type": "display_data"
    }
   ],
   "source": [
    "neglike(pp[1], pp[2], pp[3], pp[4])"
   ]
  },
  {
   "cell_type": "code",
   "execution_count": 7,
   "metadata": {},
   "outputs": [
    {
     "ename": "ERROR",
     "evalue": "Error in integrate(function(x) unnorm_lik(x, a, m, p0, p1, p2), m, Inf): maximum number of subdivisions reached\n",
     "output_type": "error",
     "traceback": [
      "Error in integrate(function(x) unnorm_lik(x, a, m, p0, p1, p2), m, Inf): maximum number of subdivisions reached\nTraceback:\n",
      "1. stats4::mle(neglike, start = list(alpha_raw = pp[1], phi0_raw = pp[2], \n .     phi1_raw = pp[3], phi2_raw = pp[4]), method = \"BFGS\")",
      "2. optim(start, f, method = method, hessian = TRUE, ...)",
      "3. (function (par) \n . fn(par, ...))(c(alpha_raw = -1293.57546347681, phi0_raw = -26.5732515285779, \n . phi1_raw = 35.9520153823283, phi2_raw = -84.4073055956611))",
      "4. fn(par, ...)",
      "5. do.call(\"minuslogl\", l)",
      "6. minuslogl(alpha_raw = -1293.57546347681, phi0_raw = -26.5732515285779, \n .     phi1_raw = 35.9520153823283, phi2_raw = -84.4073055956611)",
      "7. likelihood(pars = lesp, data = dt, m = 1)   # at line 3 of file <text>",
      "8. get_norm_const(a = tpars[1], m = m, p0 = tpars[2], p1 = tpars[3], \n .     p2 = tpars[4])   # at line 23-24 of file <text>",
      "9. integrate(function(x) unnorm_lik(x, a, m, p0, p1, p2), m, Inf)   # at line 10 of file <text>",
      "10. stop(res$message)"
     ]
    }
   ],
   "source": [
    "stats4::mle(neglike,\n",
    "    start = list(alpha_raw = pp[1], phi0_raw = pp[2], phi1_raw = pp[3], phi2_raw = pp[4]),\n",
    "    method = \"BFGS\")"
   ]
  },
  {
   "cell_type": "code",
   "execution_count": 8,
   "metadata": {},
   "outputs": [
    {
     "data": {
      "text/html": [
       "<ol class=list-inline>\n",
       "\t<li>1</li>\n",
       "\t<li>2.87994036504148e-12</li>\n",
       "\t<li>4109243660718808</li>\n",
       "\t<li>2.19974808088407e-37</li>\n",
       "</ol>\n"
      ],
      "text/latex": [
       "\\begin{enumerate*}\n",
       "\\item 1\n",
       "\\item 2.87994036504148e-12\n",
       "\\item 4109243660718808\n",
       "\\item 2.19974808088407e-37\n",
       "\\end{enumerate*}\n"
      ],
      "text/markdown": [
       "1. 1\n",
       "2. 2.87994036504148e-12\n",
       "3. 4109243660718808\n",
       "4. 2.19974808088407e-37\n",
       "\n",
       "\n"
      ],
      "text/plain": [
       "[1] 1.000000e+00 2.879940e-12 4.109244e+15 2.199748e-37"
      ]
     },
     "metadata": {},
     "output_type": "display_data"
    }
   ],
   "source": [
    "get_transformed_pars(c(alpha_raw = -1293.57546347681, phi0_raw = -26.5732515285779, \n",
    "                       phi1_raw = 35.9520153823283, phi2_raw = -84.4073055956611))"
   ]
  },
  {
   "cell_type": "markdown",
   "metadata": {},
   "source": [
    "First in line is [**MHadaptive**](https://cran.r-project.org/package=MHadaptive):"
   ]
  },
  {
   "cell_type": "code",
   "execution_count": 9,
   "metadata": {},
   "outputs": [
    {
     "ename": "ERROR",
     "evalue": "Error in solve.default(-fit$hessian): Lapack routine dgesv: system is exactly singular: U[3,3] = 0\n",
     "output_type": "error",
     "traceback": [
      "Error in solve.default(-fit$hessian): Lapack routine dgesv: system is exactly singular: U[3,3] = 0\nTraceback:\n",
      "1. Metro_Hastings(li_func = target, pars = pp, iterations = 50000, \n .     par_names = c(\"alpha\", \"phi0\", \"phi1\", \"phi2\"), data = dt, \n .     burn_in = 5000, m = 1, verbose = FALSE)",
      "2. solve(-fit$hessian)",
      "3. solve.default(-fit$hessian)"
     ]
    }
   ],
   "source": [
    "plMCMC <- Metro_Hastings(li_func = target, pars = pp,\n",
    "                         iterations = 5E4, \n",
    "                       par_names = c('alpha','phi0','phi1', 'phi2'),\n",
    "                       data = dt,\n",
    "                       burn_in = 5000,\n",
    "                       m = 1, \n",
    "                       verbose = FALSE)"
   ]
  },
  {
   "cell_type": "code",
   "execution_count": null,
   "metadata": {},
   "outputs": [],
   "source": [
    "# plMCMC$trace <- t(apply(plMCMC$trace, 1, get_transformed_pars))  "
   ]
  },
  {
   "cell_type": "markdown",
   "metadata": {},
   "source": [
    "Next in line is the [**mcmc**](https://cran.r-project.org/web/packages/mcmc/mcmc.pdf) package:"
   ]
  },
  {
   "cell_type": "code",
   "execution_count": 10,
   "metadata": {},
   "outputs": [
    {
     "ename": "ERROR",
     "evalue": "Error in integrate(function(x) unnorm_lik(x, a, m, p0, p1, p2), m, Inf): the integral is probably divergent\n",
     "output_type": "error",
     "traceback": [
      "Error in integrate(function(x) unnorm_lik(x, a, m, p0, p1, p2), m, Inf): the integral is probably divergent\nTraceback:\n",
      "1. mcmc::metrop(target, data = dt, m = 1, init = pp, nbatch = 10000)",
      "2. metrop.function(target, data = dt, m = 1, init = pp, nbatch = 10000)",
      "3. system.time(out <- .Call(C_metrop, func1, initial, nbatch, blen, \n .     nspac, scale, func2, debug, env1, env2))",
      "4. (function (state) \n . obj(state, ...))(c(0.263293722660431, -12.431564934494, -11.5807875373523, \n . -13.0436881733339))",
      "5. obj(state, ...)",
      "6. likelihood(pars, data, m)   # at line 47 of file <text>",
      "7. get_norm_const(a = tpars[1], m = m, p0 = tpars[2], p1 = tpars[3], \n .     p2 = tpars[4])   # at line 23-24 of file <text>",
      "8. integrate(function(x) unnorm_lik(x, a, m, p0, p1, p2), m, Inf)   # at line 10 of file <text>",
      "9. stop(res$message)"
     ]
    },
    {
     "name": "stderr",
     "output_type": "stream",
     "text": [
      "Timing stopped at: 238.2 0.179 239.3\n"
     ]
    }
   ],
   "source": [
    "library(mcmc)\n",
    "GeyerMCMC <- mcmc::metrop(target, data = dt, m = 1, init = pp, nbatch = 1E4)"
   ]
  },
  {
   "cell_type": "code",
   "execution_count": null,
   "metadata": {},
   "outputs": [],
   "source": [
    "get_transformed_pars(c(0.370476820884172, -12.9894667495059, -17.2603232286185, -13.6337881364319))"
   ]
  }
 ],
 "metadata": {
  "kernelspec": {
   "display_name": "R 3.5",
   "language": "R",
   "name": "ir35"
  },
  "language_info": {
   "codemirror_mode": "r",
   "file_extension": ".r",
   "mimetype": "text/x-r-source",
   "name": "R",
   "pygments_lexer": "r",
   "version": "3.5.1"
  }
 },
 "nbformat": 4,
 "nbformat_minor": 2
}
